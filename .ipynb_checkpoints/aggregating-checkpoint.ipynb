{
 "cells": [
  {
   "cell_type": "code",
   "execution_count": 3,
   "id": "a5cefa32-fb7b-42cc-9930-810f5dca448d",
   "metadata": {},
   "outputs": [
    {
     "name": "stdout",
     "output_type": "stream",
     "text": [
      "150\n",
      "10\n",
      "50\n",
      "5\n",
      "30.0\n",
      "[ 10  30  60 100 150]\n",
      "[      10      200     6000   240000 12000000]\n"
     ]
    }
   ],
   "source": [
    "import numpy as np\n",
    "a = np.array([10,20,30,40,50])\n",
    "\n",
    "print(np.sum(a))\n",
    "print(np.min(a))\n",
    "print(np.max(a))\n",
    "print(np.size(a))\n",
    "print(np.mean(a))\n",
    "print(np.cumsum(a))\n",
    "print(np.cumprod(a))"
   ]
  },
  {
   "cell_type": "code",
   "execution_count": 14,
   "id": "38f6bb72-7a44-4f57-9413-4eca356260b2",
   "metadata": {},
   "outputs": [
    {
     "name": "stdout",
     "output_type": "stream",
     "text": [
      "[100 150 199 200 250 130] \n",
      " [10 50 30 40 30 10]\n",
      "31270\n"
     ]
    }
   ],
   "source": [
    "a =np.array([100,150,199,200,250,130])\n",
    "b= np.array([10,50,30,40,30,10])\n",
    "\n",
    "price =np.array(a)\n",
    "quantity=np.array(b)\n",
    "\n",
    "print(price,\"\\n\",quantity)\n",
    "#print(np.cumprod([price,quantity],axis=0))\n",
    "c=np.cumprod([price,quantity],axis=0)\n",
    "print(c[1].sum())"
   ]
  }
 ],
 "metadata": {
  "kernelspec": {
   "display_name": "Python 3 (ipykernel)",
   "language": "python",
   "name": "python3"
  },
  "language_info": {
   "codemirror_mode": {
    "name": "ipython",
    "version": 3
   },
   "file_extension": ".py",
   "mimetype": "text/x-python",
   "name": "python",
   "nbconvert_exporter": "python",
   "pygments_lexer": "ipython3",
   "version": "3.13.1"
  }
 },
 "nbformat": 4,
 "nbformat_minor": 5
}
