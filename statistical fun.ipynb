{
 "cells": [
  {
   "cell_type": "code",
   "execution_count": 3,
   "id": "1d256ed6-ff1e-47b6-8616-e99af4a34f1c",
   "metadata": {},
   "outputs": [
    {
     "name": "stdout",
     "output_type": "stream",
     "text": [
      "176.0\n",
      "179.0\n",
      "200\n",
      "29.017236257093817\n",
      "842.0\n"
     ]
    }
   ],
   "source": [
    "import numpy as np\n",
    "import statistics as stats\n",
    "\n",
    "baked_food =[200,150,150,130,200,220,170,188]\n",
    "\n",
    "a=np.array(baked_food)\n",
    "print(np.mean(a))    #sum of value/no.of value\n",
    "print(np.median(a))  #center value after sorting\n",
    "print(stats.mode(a)) #most reoccurnce value\n",
    "print(np.std(a))     #standard deviation\n",
    "print(np.var(a))     #square of std\n"
   ]
  },
  {
   "cell_type": "code",
   "execution_count": 5,
   "id": "c4eeb7c3-f3eb-4f27-bcb7-61abc4aa3b61",
   "metadata": {},
   "outputs": [
    {
     "name": "stdout",
     "output_type": "stream",
     "text": [
      "[[1.         0.99015454]\n",
      " [0.99015454 1.        ]]\n"
     ]
    }
   ],
   "source": [
    "tabacco_consumption=[30,50,10,30,50,40]   #it shows +ve impact, that the consumption of tabacoo increase then death rate also\n",
    "death = [100,120,70,100,120,112]\n",
    "\n",
    "print(np.corrcoef([tabacco_consumption,death]))"
   ]
  },
  {
   "cell_type": "code",
   "execution_count": 7,
   "id": "447ba1fc-8fb9-4695-8d5c-b301ecc403af",
   "metadata": {},
   "outputs": [
    {
     "name": "stdout",
     "output_type": "stream",
     "text": [
      "[[ 1.         -0.66621445]\n",
      " [-0.66621445  1.        ]]\n"
     ]
    }
   ],
   "source": [
    "price =[300,100,350,150,200]    #it shows-ve impact, that if price increase sales go down\n",
    "sales = [10,20,7,17,3]\n",
    "\n",
    "print(np.corrcoef([price,sales]))"
   ]
  }
 ],
 "metadata": {
  "kernelspec": {
   "display_name": "Python 3 (ipykernel)",
   "language": "python",
   "name": "python3"
  },
  "language_info": {
   "codemirror_mode": {
    "name": "ipython",
    "version": 3
   },
   "file_extension": ".py",
   "mimetype": "text/x-python",
   "name": "python",
   "nbconvert_exporter": "python",
   "pygments_lexer": "ipython3",
   "version": "3.13.1"
  }
 },
 "nbformat": 4,
 "nbformat_minor": 5
}
