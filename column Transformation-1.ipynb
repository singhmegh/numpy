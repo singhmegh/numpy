{
 "cells": [
  {
   "cell_type": "code",
   "execution_count": 2,
   "id": "e7e663a1-0806-4b8d-a4e3-7d0cdbd097fd",
   "metadata": {},
   "outputs": [
    {
     "name": "stdout",
     "output_type": "stream",
     "text": [
      "     EEID        Full Name                 Job Title  Department  \\\n",
      "0  E02387      Emily Davis                Sr. Manger          IT   \n",
      "1  E04105    Theodore Dinh       Technical Architect          IT   \n",
      "2  E02572     Luna Sanders                  Director     Finance   \n",
      "3  E02832  Penelope Jordan  Computer Systems Manager          IT   \n",
      "4  E01639        Austin Vo               Sr. Analyst     Finance   \n",
      "5  E00644     Joshua Gupta    Account Representative       Sales   \n",
      "6  E01550      Ruby Barnes                   Manager          IT   \n",
      "7  E04332      Luke Martin                   Analyst     Finance   \n",
      "8  E04533    Easton Bailey                   Manager  Accounting   \n",
      "9  E03838  Madeline Walker               Sr. Analyst     Finance   \n",
      "\n",
      "            Business Unit  Gender  Ethnicity  Age  Hire Date  Annual Salary  \\\n",
      "0  Research & Development  Female      Black   55 2016-04-08         141604   \n",
      "1           Manufacturing    Male      Asian   59 1997-11-29          99975   \n",
      "2     Speciality Products  Female  Caucasian   50 2006-10-26         163099   \n",
      "3           Manufacturing  Female  Caucasian   26 2019-09-27          84913   \n",
      "4           Manufacturing    Male      Asian   55 1995-11-20          95409   \n",
      "5               Corporate    Male      Asian   57 2017-01-24          50994   \n",
      "6               Corporate  Female  Caucasian   27 2020-07-01         119746   \n",
      "7           Manufacturing    Male      Black   25 2020-05-16          41336   \n",
      "8           Manufacturing    Male  Caucasian   29 2019-01-25         113527   \n",
      "9     Speciality Products  Female  Caucasian   34 2018-06-13          77203   \n",
      "\n",
      "   Bonus %        Country       City  Exit Date   GetBonus  \n",
      "0     0.15  United States    Seattle 2021-10-16      Bonus  \n",
      "1     0.00          China  Chongqing        NaT  no bonous  \n",
      "2     0.20  United States    Chicago        NaT      Bonus  \n",
      "3     0.07  United States    Chicago        NaT      Bonus  \n",
      "4     0.00  United States    Phoenix        NaT  no bonous  \n",
      "5     0.00          China  Chongqing        NaT  no bonous  \n",
      "6     0.10  United States    Phoenix        NaT      Bonus  \n",
      "7     0.00  United States      Miami 2021-05-20  no bonous  \n",
      "8     0.06  United States     Austin        NaT      Bonus  \n",
      "9     0.00  United States    Chicago        NaT  no bonous  \n"
     ]
    }
   ],
   "source": [
    "import pandas as pd\n",
    "df =pd.read_excel(\"C:/Users/sumit/Downloads/ESD-1.xlsx\")\n",
    "#print(data)\n",
    "df.loc[(df[\"Bonus %\"]==0),\"GetBonus\"]=\"no bonous\"\n",
    "df.loc[(df[\"Bonus %\"]>0,\"GetBonus\")] = \"Bonus\"\n",
    "print(df.head(10))"
   ]
  },
  {
   "cell_type": "code",
   "execution_count": 9,
   "id": "14907361-2487-4e0d-8300-62d700dfee30",
   "metadata": {},
   "outputs": [
    {
     "name": "stdout",
     "output_type": "stream",
     "text": [
      "  First name  Last name  Salary EEID        Full Name\n",
      "0       Ross  Tribbiani   20000   E1   ROSS Tribbiani\n",
      "1     Rachel       bing   40000   E2      RACHEL Bing\n",
      "2     Monika      green   25000   E3     MONIKA Green\n",
      "3       joey     geller   60000   E4      JOEY Geller\n",
      "4   Chandler     buffay   33000   E5  CHANDLER Buffay\n",
      "5     Phoebe       bing   45000   E6      PHOEBE Bing\n"
     ]
    }
   ],
   "source": [
    "import pandas as pd\n",
    "data=pd.read_excel(\"C:/Users/sumit/Downloads/practice.xlsx\")\n",
    "#print(data)\n",
    "data[\"Full Name\"]= data[\"First name\"].str.upper() +\" \"+ data[\"Last name\"].str.capitalize()    \n",
    "print(data)"
   ]
  }
 ],
 "metadata": {
  "kernelspec": {
   "display_name": "Python 3 (ipykernel)",
   "language": "python",
   "name": "python3"
  },
  "language_info": {
   "codemirror_mode": {
    "name": "ipython",
    "version": 3
   },
   "file_extension": ".py",
   "mimetype": "text/x-python",
   "name": "python",
   "nbconvert_exporter": "python",
   "pygments_lexer": "ipython3",
   "version": "3.13.1"
  }
 },
 "nbformat": 4,
 "nbformat_minor": 5
}
