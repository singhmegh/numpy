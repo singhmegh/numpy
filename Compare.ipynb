{
 "cells": [
  {
   "cell_type": "code",
   "execution_count": 1,
   "id": "59fd1266-2656-4d98-ad0a-41b147f859f1",
   "metadata": {},
   "outputs": [
    {
     "name": "stdout",
     "output_type": "stream",
     "text": [
      "   fruits  price  quantity\n",
      "0   mango    100        15\n",
      "1  apples    160        10\n",
      "2  banana     50        10\n",
      "3  papaya     30         3\n"
     ]
    }
   ],
   "source": [
    "import pandas as pd\n",
    "\n",
    "dict={\"fruits\":[\"mango\",\"apples\",\"banana\",\"papaya\"],\n",
    "      \"price\":[100,160,50,30],\n",
    "      \"quantity\":[15,10,10,3]}\n",
    "\n",
    "df=pd.DataFrame(dict)\n",
    "print(df)"
   ]
  },
  {
   "cell_type": "code",
   "execution_count": 4,
   "id": "a7d75844-5f96-4140-b94c-cfbacc8c6a87",
   "metadata": {},
   "outputs": [
    {
     "name": "stdout",
     "output_type": "stream",
     "text": [
      "   fruits  price  quantity\n",
      "0   mango    100        15\n",
      "1  apples    160        10\n",
      "2  banana     50        10\n",
      "3  papaya     30         3\n",
      "   fruits  price  quantity\n",
      "0   mango    120        12\n",
      "1  apples    175        15\n",
      "2  banana     50        10\n",
      "3  papaya     31         5\n"
     ]
    }
   ],
   "source": [
    "df2 = df.copy()\n",
    "print(df2)\n",
    "df2.loc[0,\"price\"]=120\n",
    "df2.loc[1,\"price\"]=175\n",
    "df2.loc[3,\"price\"]=31\n",
    "df2.loc[0,\"quantity\"]=12\n",
    "df2.loc[1,\"quantity\"]=15\n",
    "df2.loc[3,\"quantity\"]=5\n",
    "\n",
    "print(df2)"
   ]
  },
  {
   "cell_type": "code",
   "execution_count": 6,
   "id": "6686b17f-2261-4d16-9785-7e0a98171cbe",
   "metadata": {},
   "outputs": [
    {
     "name": "stdout",
     "output_type": "stream",
     "text": [
      "         price  quantity\n",
      "0 self   100.0      15.0\n",
      "  other  120.0      12.0\n",
      "1 self   160.0      10.0\n",
      "  other  175.0      15.0\n",
      "3 self    30.0       3.0\n",
      "  other   31.0       5.0\n"
     ]
    }
   ],
   "source": [
    "print(df.compare(df2,align_axis=0))"
   ]
  }
 ],
 "metadata": {
  "kernelspec": {
   "display_name": "Python 3 (ipykernel)",
   "language": "python",
   "name": "python3"
  },
  "language_info": {
   "codemirror_mode": {
    "name": "ipython",
    "version": 3
   },
   "file_extension": ".py",
   "mimetype": "text/x-python",
   "name": "python",
   "nbconvert_exporter": "python",
   "pygments_lexer": "ipython3",
   "version": "3.13.1"
  }
 },
 "nbformat": 4,
 "nbformat_minor": 5
}
