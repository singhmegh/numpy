{
 "cells": [
  {
   "cell_type": "code",
   "execution_count": 6,
   "id": "09b6c6ef-be55-44da-a3e6-b8d2042bb731",
   "metadata": {},
   "outputs": [
    {
     "name": "stdout",
     "output_type": "stream",
     "text": [
      "  Emp Id   Names  Age\n",
      "0    E01     Ram   34\n",
      "1    E02   Shyam   56\n",
      "2    E03   Rahul   23\n",
      "3    E04  vishal   44\n",
      "4    E05    Ravi   32\n",
      "5    E06    john   36\n",
      "\n",
      "  Emp Id  Salary\n",
      "0    E01   45000\n",
      "1    E07   56000\n",
      "2    E03   34000\n",
      "3    E04   30000\n",
      "4    E08   50000\n",
      "5    E06   62000\n"
     ]
    }
   ],
   "source": [
    "import pandas as pd\n",
    "\n",
    "data1 ={\"Emp Id\":[\"E01\",\"E02\",\"E03\",\"E04\",\"E05\",\"E06\"],\n",
    "        \"Names\":[\"Ram\",\"Shyam\",\"Rahul\",\"vishal\",\"Ravi\",\"john\"],\n",
    "        \"Age\":[34,56,23,44,32,36]}\n",
    "\n",
    "data2 ={\"Emp Id\":[\"E01\",\"E07\",\"E03\",\"E04\",\"E08\",\"E06\"],\n",
    "        \"Salary\":[45000,56000,34000,30000,50000,62000]}\n",
    "\n",
    "df1=pd.DataFrame(data1)\n",
    "df2=pd.DataFrame(data2)\n",
    "\n",
    "print(df1)\n",
    "print()\n",
    "print(df2)"
   ]
  },
  {
   "cell_type": "code",
   "execution_count": 8,
   "id": "1177f6d2-3a59-4acb-aec0-dbfc355d87d6",
   "metadata": {},
   "outputs": [
    {
     "name": "stdout",
     "output_type": "stream",
     "text": [
      "  Emp Id   Names  Age   Salary\n",
      "0    E01     Ram   34  45000.0\n",
      "1    E02   Shyam   56      NaN\n",
      "2    E03   Rahul   23  34000.0\n",
      "3    E04  vishal   44  30000.0\n",
      "4    E05    Ravi   32      NaN\n",
      "5    E06    john   36  62000.0\n"
     ]
    }
   ],
   "source": [
    "print(pd.merge(df1,df2,on=\"Emp Id\",how=\"left\"))"
   ]
  },
  {
   "cell_type": "code",
   "execution_count": 9,
   "id": "271a19e3-2c76-4051-b7ee-4f4e79b1f587",
   "metadata": {},
   "outputs": [
    {
     "name": "stdout",
     "output_type": "stream",
     "text": [
      "  Emp Id   Names   Age  Salary\n",
      "0    E01     Ram  34.0   45000\n",
      "1    E07     NaN   NaN   56000\n",
      "2    E03   Rahul  23.0   34000\n",
      "3    E04  vishal  44.0   30000\n",
      "4    E08     NaN   NaN   50000\n",
      "5    E06    john  36.0   62000\n"
     ]
    }
   ],
   "source": [
    "print(pd.merge(df1,df2,on=\"Emp Id\",how=\"right\"))"
   ]
  },
  {
   "cell_type": "code",
   "execution_count": 21,
   "id": "39f43718-019d-46ab-8835-01b09aef5f2f",
   "metadata": {},
   "outputs": [
    {
     "name": "stdout",
     "output_type": "stream",
     "text": [
      "  Emp Id   Names  Age\n",
      "0    E01     Ram   34\n",
      "1    E02   Shyam   56\n",
      "2    E03   Rahul   23\n",
      "3    E04  vishal   44\n",
      "4    E05    Ravi   32\n",
      "5    E06    john   36\n",
      "\n",
      "  Emp Id     Names  Age\n",
      "0    E07      Ramu   34\n",
      "1    E08  Shyamaya   56\n",
      "2    E09     Raman   23\n",
      "3   E010     vimal   44\n",
      "4   E011    Ravina   32\n",
      "5   E012     happy   36\n"
     ]
    }
   ],
   "source": [
    "import pandas as pd\n",
    "\n",
    "data3 ={\"Emp Id\":[\"E01\",\"E02\",\"E03\",\"E04\",\"E05\",\"E06\"],\n",
    "        \"Names\":[\"Ram\",\"Shyam\",\"Rahul\",\"vishal\",\"Ravi\",\"john\"],\n",
    "        \"Age\":[34,56,23,44,32,36]}\n",
    "data4 ={\"Emp Id\":[\"E07\",\"E08\",\"E09\",\"E010\",\"E011\",\"E012\"],\n",
    "        \"Names\":[\"Ramu\",\"Shyamaya\",\"Raman\",\"vimal\",\"Ravina\",\"happy\"],\n",
    "        \"Age\":[34,56,23,44,32,36]}\n",
    "df3=pd.DataFrame(data3)\n",
    "de=pd.DataFrame(data4)\n",
    "print(df3)\n",
    "print()\n",
    "print(df4)\n"
   ]
  },
  {
   "cell_type": "code",
   "execution_count": 22,
   "id": "3e863bb3-4880-459e-b8e4-0f810bd6dc36",
   "metadata": {},
   "outputs": [
    {
     "name": "stdout",
     "output_type": "stream",
     "text": [
      "  Emp Id     Names  Age\n",
      "0    E01       Ram   34\n",
      "1    E02     Shyam   56\n",
      "2    E03     Rahul   23\n",
      "3    E04    vishal   44\n",
      "4    E05      Ravi   32\n",
      "5    E06      john   36\n",
      "0    E07      Ramu   34\n",
      "1    E08  Shyamaya   56\n",
      "2    E09     Raman   23\n",
      "3   E010     vimal   44\n",
      "4   E011    Ravina   32\n",
      "5   E012     happy   36\n"
     ]
    }
   ],
   "source": [
    "print(pd.concat([df3,df4]))"
   ]
  }
 ],
 "metadata": {
  "kernelspec": {
   "display_name": "Python 3 (ipykernel)",
   "language": "python",
   "name": "python3"
  },
  "language_info": {
   "codemirror_mode": {
    "name": "ipython",
    "version": 3
   },
   "file_extension": ".py",
   "mimetype": "text/x-python",
   "name": "python",
   "nbconvert_exporter": "python",
   "pygments_lexer": "ipython3",
   "version": "3.13.1"
  }
 },
 "nbformat": 4,
 "nbformat_minor": 5
}
