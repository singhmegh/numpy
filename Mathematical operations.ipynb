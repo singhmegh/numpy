{
 "cells": [
  {
   "cell_type": "code",
   "execution_count": 7,
   "id": "551e5706-d6e0-47ee-8c6d-4fda08eb0219",
   "metadata": {},
   "outputs": [
    {
     "name": "stdout",
     "output_type": "stream",
     "text": [
      "[[132 154]\n",
      " [ 87  53]]\n",
      "[[132 154]\n",
      " [ 87  53]]\n"
     ]
    }
   ],
   "source": [
    "import numpy as np\n",
    "arr1 = np.array([[56,72],[16,37]])\n",
    "arr2 = np.array([[76,82],[71,16]])\n",
    "print(arr1+arr2)\n",
    "print(np.add(arr1,arr2))"
   ]
  },
  {
   "cell_type": "code",
   "execution_count": 9,
   "id": "b93af9e8-93b6-42a2-9a28-7f04fad30419",
   "metadata": {},
   "outputs": [
    {
     "name": "stdout",
     "output_type": "stream",
     "text": [
      "[[-20 -10]\n",
      " [-55  21]]\n",
      "[[-20 -10]\n",
      " [-55  21]]\n"
     ]
    }
   ],
   "source": [
    "import numpy as np\n",
    "arr1 = np.array([[56,72],[16,37]])\n",
    "arr2 = np.array([[76,82],[71,16]])\n",
    "print(arr1-arr2)\n",
    "print(np.subtract(arr1,arr2))"
   ]
  },
  {
   "cell_type": "code",
   "execution_count": 11,
   "id": "cd2ef0ca-6cdb-4e51-b6b3-429c9958857a",
   "metadata": {},
   "outputs": [
    {
     "name": "stdout",
     "output_type": "stream",
     "text": [
      "[[4256 5904]\n",
      " [1136  592]]\n",
      "[[4256 5904]\n",
      " [1136  592]]\n"
     ]
    }
   ],
   "source": [
    "import numpy as np\n",
    "arr1 = np.array([[56,72],[16,37]])\n",
    "arr2 = np.array([[76,82],[71,16]])\n",
    "print(arr1*arr2)\n",
    "print(np.multiply(arr1,arr2))"
   ]
  },
  {
   "cell_type": "code",
   "execution_count": 13,
   "id": "b7865300-f7ac-4bdb-8785-fe9a740027fa",
   "metadata": {},
   "outputs": [
    {
     "name": "stdout",
     "output_type": "stream",
     "text": [
      "[[0.73684211 0.87804878]\n",
      " [0.22535211 2.3125    ]]\n",
      "[[0.73684211 0.87804878]\n",
      " [0.22535211 2.3125    ]]\n"
     ]
    }
   ],
   "source": [
    "import numpy as np\n",
    "arr1 = np.array([[56,72],[16,37]])\n",
    "arr2 = np.array([[76,82],[71,16]])\n",
    "print(arr1/arr2)\n",
    "print(np.divide(arr1,arr2))"
   ]
  },
  {
   "cell_type": "code",
   "execution_count": 14,
   "id": "7e2c2187-7901-413d-b0e1-d95f121aad20",
   "metadata": {},
   "outputs": [
    {
     "name": "stdout",
     "output_type": "stream",
     "text": [
      "[ 9 16  4  1]\n"
     ]
    }
   ],
   "source": [
    "arr1 =np.array([3,4,2,1])\n",
    "arr2 =np.array([2])\n",
    "print(np.power(arr1,arr2))"
   ]
  },
  {
   "cell_type": "code",
   "execution_count": 15,
   "id": "9f3d161c-a6ca-4336-a130-364f91d02612",
   "metadata": {},
   "outputs": [
    {
     "name": "stdout",
     "output_type": "stream",
     "text": [
      "[3. 4. 2. 1.]\n"
     ]
    }
   ],
   "source": [
    "arr1 =np.array([9,16,4,1])\n",
    "print(np.sqrt(arr1))"
   ]
  }
 ],
 "metadata": {
  "kernelspec": {
   "display_name": "Python 3 (ipykernel)",
   "language": "python",
   "name": "python3"
  },
  "language_info": {
   "codemirror_mode": {
    "name": "ipython",
    "version": 3
   },
   "file_extension": ".py",
   "mimetype": "text/x-python",
   "name": "python",
   "nbconvert_exporter": "python",
   "pygments_lexer": "ipython3",
   "version": "3.13.1"
  }
 },
 "nbformat": 4,
 "nbformat_minor": 5
}
