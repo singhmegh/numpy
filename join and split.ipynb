{
 "cells": [
  {
   "cell_type": "code",
   "execution_count": 1,
   "id": "14cefe04-a730-4d70-a07f-0c9377c95495",
   "metadata": {},
   "outputs": [
    {
     "name": "stdout",
     "output_type": "stream",
     "text": [
      "[10 20 30 40  5  4  3  2]\n"
     ]
    }
   ],
   "source": [
    "#concatenate\n",
    "import numpy as np\n",
    "\n",
    "arr1 = np.array([10,20,30,40])\n",
    "arr2 = np.array([5,4,3,2,])\n",
    "print(np.concatenate([arr1,arr2]))"
   ]
  },
  {
   "cell_type": "code",
   "execution_count": 2,
   "id": "a6201ac5-830d-4155-8231-9f0480207731",
   "metadata": {},
   "outputs": [
    {
     "name": "stdout",
     "output_type": "stream",
     "text": [
      "[10 20 30 40  5  4  3  2]\n"
     ]
    }
   ],
   "source": [
    "print(np.concatenate([arr1,arr2],axis = 0))"
   ]
  },
  {
   "cell_type": "code",
   "execution_count": 3,
   "id": "fa2d3a31-ec71-4ae9-861b-93dc45305e2f",
   "metadata": {},
   "outputs": [
    {
     "name": "stdout",
     "output_type": "stream",
     "text": [
      "[10 20 30 40  5  4  3  2]\n"
     ]
    }
   ],
   "source": [
    "print(np.hstack([arr1,arr2]))   #horizantal concatenation == axis=1"
   ]
  },
  {
   "cell_type": "code",
   "execution_count": 4,
   "id": "f171705f-2b62-4cc1-a1ce-1e64ae79d740",
   "metadata": {},
   "outputs": [
    {
     "name": "stdout",
     "output_type": "stream",
     "text": [
      "[[10 20 30 40]\n",
      " [ 5  4  3  2]]\n"
     ]
    }
   ],
   "source": [
    "print(np.vstack([arr1,arr2]))   #vertical concatenation"
   ]
  },
  {
   "cell_type": "code",
   "execution_count": 14,
   "id": "1cae2f5f-8a18-44ae-a7e1-38da6b382854",
   "metadata": {},
   "outputs": [
    {
     "name": "stdout",
     "output_type": "stream",
     "text": [
      "[array([[10, 20],\n",
      "       [30, 40]]), array([[50, 60]])]\n"
     ]
    }
   ],
   "source": [
    "a =np.array([[10,20],[30,40],[50,60]])\n",
    "b=np.array_split(a,2)\n",
    "print(b)"
   ]
  }
 ],
 "metadata": {
  "kernelspec": {
   "display_name": "Python 3 (ipykernel)",
   "language": "python",
   "name": "python3"
  },
  "language_info": {
   "codemirror_mode": {
    "name": "ipython",
    "version": 3
   },
   "file_extension": ".py",
   "mimetype": "text/x-python",
   "name": "python",
   "nbconvert_exporter": "python",
   "pygments_lexer": "ipython3",
   "version": "3.13.1"
  }
 },
 "nbformat": 4,
 "nbformat_minor": 5
}
