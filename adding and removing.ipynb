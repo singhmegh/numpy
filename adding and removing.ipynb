{
 "cells": [
  {
   "cell_type": "code",
   "execution_count": 5,
   "id": "9645a8d3-1e06-486f-8748-438c41d02fbf",
   "metadata": {},
   "outputs": [
    {
     "name": "stdout",
     "output_type": "stream",
     "text": [
      "[20 30 40 10 80 75]\n"
     ]
    }
   ],
   "source": [
    "import numpy as np\n",
    "a = np.array([[20,30],[40,10]])\n",
    "print(np.append(a,[80,75]))"
   ]
  },
  {
   "cell_type": "code",
   "execution_count": 7,
   "id": "1e7a2e78-117a-4d67-b217-f3cfb14fbc2e",
   "metadata": {},
   "outputs": [
    {
     "name": "stdout",
     "output_type": "stream",
     "text": [
      "[10 50 20 30 40]\n"
     ]
    }
   ],
   "source": [
    "a = np.array([10,20,30,40])   \n",
    "print(np.insert(a,1,50))    #[arr,index,value]"
   ]
  },
  {
   "cell_type": "code",
   "execution_count": 8,
   "id": "122a235b-4477-4e44-89ef-d55282c34a34",
   "metadata": {},
   "outputs": [
    {
     "name": "stdout",
     "output_type": "stream",
     "text": [
      "[10 99 20 30 40 50 72]\n"
     ]
    }
   ],
   "source": [
    "a =np.array([[10,20],[30,40],[50,72]])\n",
    "print(np.insert(a,1,99))"
   ]
  },
  {
   "cell_type": "code",
   "execution_count": 15,
   "id": "e780f76e-3e01-40e4-9fcd-809f182a4dff",
   "metadata": {},
   "outputs": [
    {
     "name": "stdout",
     "output_type": "stream",
     "text": [
      "[[10 20]\n",
      " [50 72]]\n"
     ]
    }
   ],
   "source": [
    "a =np.array([[10,20],[30,40],[50,72]])\n",
    "print(np.delete(a,1,axis=0))"
   ]
  }
 ],
 "metadata": {
  "kernelspec": {
   "display_name": "Python 3 (ipykernel)",
   "language": "python",
   "name": "python3"
  },
  "language_info": {
   "codemirror_mode": {
    "name": "ipython",
    "version": 3
   },
   "file_extension": ".py",
   "mimetype": "text/x-python",
   "name": "python",
   "nbconvert_exporter": "python",
   "pygments_lexer": "ipython3",
   "version": "3.13.1"
  }
 },
 "nbformat": 4,
 "nbformat_minor": 5
}
