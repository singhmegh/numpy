{
 "cells": [
  {
   "cell_type": "code",
   "execution_count": 5,
   "id": "67eb0e25-5f76-49f9-bde4-a7d5b104146a",
   "metadata": {},
   "outputs": [
    {
     "name": "stdout",
     "output_type": "stream",
     "text": [
      "  First name  Last name  Salary EEID    Bonus\n",
      "0       Ross  Tribbiani   20000   E1   4000.0\n",
      "1     Rachel       bing   40000   E2   8000.0\n",
      "2     Monika      green   25000   E3   5000.0\n",
      "3       joey     geller   60000   E4  12000.0\n",
      "4   Chandler     buffay   33000   E5   6600.0\n",
      "5     Phoebe       bing   45000   E6   9000.0\n"
     ]
    }
   ],
   "source": [
    "import pandas as pd\n",
    "data=pd.read_excel(\"C:/Users/sumit/Downloads/practice.xlsx\")\n",
    "#print(data)\n",
    "data[\"Bonus\"]=(data[\"Salary\"]/100)*20\n",
    "print(data)"
   ]
  },
  {
   "cell_type": "code",
   "execution_count": 9,
   "id": "22367889-6e22-4250-ab5e-8760177a3e21",
   "metadata": {},
   "outputs": [
    {
     "name": "stdout",
     "output_type": "stream",
     "text": [
      "     Months short_months\n",
      "0   january          Jan\n",
      "1  february          Feb\n",
      "2     march          Mar\n",
      "3     april          Apr\n"
     ]
    }
   ],
   "source": [
    "data={\"Months\":[\"january\",\"february\",\"march\",\"april\"]}\n",
    "a=pd.DataFrame(data)\n",
    "\n",
    "def extract(value):\n",
    "    return value[0:3]\n",
    "\n",
    "a[\"short_months\"]=a[\"Months\"].map(extract).str.capitalize()\n",
    "print(a)"
   ]
  }
 ],
 "metadata": {
  "kernelspec": {
   "display_name": "Python 3 (ipykernel)",
   "language": "python",
   "name": "python3"
  },
  "language_info": {
   "codemirror_mode": {
    "name": "ipython",
    "version": 3
   },
   "file_extension": ".py",
   "mimetype": "text/x-python",
   "name": "python",
   "nbconvert_exporter": "python",
   "pygments_lexer": "ipython3",
   "version": "3.13.1"
  }
 },
 "nbformat": 4,
 "nbformat_minor": 5
}
